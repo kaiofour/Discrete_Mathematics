{
 "cells": [
  {
   "cell_type": "code",
   "execution_count": 8,
   "metadata": {},
   "outputs": [],
   "source": [
    "%matplotlib inline\n",
    "import matplotlib_venn as vplt\n",
    "from matplotlib import pyplot as plt"
   ]
  },
  {
   "cell_type": "markdown",
   "metadata": {},
   "source": [
    "# 1. Proving Identities\n",
    "---\n",
    "\n",
    "Given: A and B are sets, $\\exists$ x such that (x $\\in$ A $\\land$ x $\\in$ B)<br>\n",
    "Show that:\n",
    "- A\\B = A $\\cap$ $B^{c}$ \n",
    "- B = (B $\\cap$ A) $\\cup$ (B $\\cap$ $A^{c}$)\n",
    "- B\\A = B $\\cap$ $A^{c}$\n",
    "- A $\\cup$ B = A $\\cup$ (B $\\cap$ $A^{c}$)\n",
    "- $(\\textbf{U}_{i=1}^{\\infty} A_{i}^{c})^{c}$ = $\\cap_{i=1}^{\\infty}A_{i}$\n",
    "- |A $\\cup$ B| = |A| + |B| - |A $\\cap$ B|"
   ]
  },
  {
   "cell_type": "markdown",
   "metadata": {},
   "source": [
    "1.1.) A\\B = A $\\cap$ $B^{c}$\n",
    "- $A$ \\ $B$ means everything in A except for anything in $A$ $\\cap$ $B$\n",
    "<br>\n",
    "First is we should allow X to be an arbitrary element of $A$ \\ $B$ that indicates, = $X$ $\\in$ $A$ \\ $B$\n",
    "<br>\n",
    "$\\ast$  x $\\in$ $A$ and x $\\notin$ $B$\n",
    "<br>\n",
    "$\\ast$  x $\\in$ $A$ and x $\\in$ $B^{c}$ \n",
    "<br>\n",
    "$\\ast$ x $\\in$ $A$ $\\cap$ $B^{c}$    \n",
    "$\\ast$ $A$ \\ $B$ = $A$ $\\cap$ $B^{c}$\n",
    "\n",
    "- Then allow y be an arbitrary element of $A$ $\\cap$ $B^{c}$, and $y$ $\\in$ $A$ $\\cap$ $B^{c}$ \n",
    "<br>\n",
    "$\\ast$  y $\\in$ $A$ and y $\\in$ $B^{c}$\n",
    "<br>\n",
    "$\\ast$  y $\\in$ $A$ and y $\\notin$ $B$ \n",
    "<br>\n",
    "$\\ast$ y $\\in$ $A$ \\ $B$    \n",
    "$\\ast$ $A$ $\\cap$ $B^{c}$ = $A$ \\ $B$ \n",
    "\n",
    "<span style=\"text-decoration: underline;\">By using these two statements, it's clear that this is solid proof that A\\B = A </span>\n",
    "\n",
    "\n",
    "\n",
    "\n",
    "1.2) B = (B $\\cap$ A) $\\cup$ (B $\\cap$ $A^{c}$)\n",
    "- Let $x$ $\\in$ ($B$ $\\cap$ $A$) $\\cup$ ($B$ $\\cap$ $A^C$)\n",
    "\n",
    "$\\ast$ Using the Distributive law, we get $x$ $\\in$ $B$ $\\cap$ ($A$ $\\cup$ $A^C$) and  $x$ $\\in$ $A$ $\\cup A^C$\n",
    "<br>\n",
    "$\\ast$  Using the Domination Law again, we get $x$ $\\in$ $A \\cup A^C = \\mathcal {U}$ and $x$ $\\in$ $B \\cap \\mathcal{U}$ = $B$ then $x$ $\\in$ $B$\n",
    "<br>\n",
    "$\\ast$ B =(B $\\cap$ A) $\\cup$ (B $\\cap$ $A^{c}$)\n",
    "\n",
    "1.3.) B\\A = B $\\cap$ $A^{c}$\n",
    "- $B$ \\ $A$ signifies all elements within B with the exception of any contained in $B$ $\\cap$ $A$\n",
    "<br>\n",
    "Now, let X be an arbitrary element of $B$ \\ $A$ that implies, $X$ $\\in$ $B$ \\ $A$\n",
    "<br>\n",
    "$\\ast$  x $\\in$ $B$ and x $\\notin$ $A$\n",
    "<br>\n",
    "$\\ast$  x $\\in$ $B$ and x $\\in$ $A^{c}$ \n",
    "<br>\n",
    "$\\ast$ x $\\in$ $B$ $\\cap$ $A^{c}$    \n",
    "$\\ast$ $B$ \\ $A$ = $B$ $\\cap$ $A^{c}$\n",
    "\n",
    "- Now we let y be an arbitrary element of $B$ $\\cap$ $A^{c}$, then $y$ $\\in$ $B$ $\\cap$ $A^{c}$ \n",
    "<br>\n",
    "$\\ast$  y $\\in$ $B$ and y $\\in$ $A^{c}$\n",
    "<br>\n",
    "$\\ast$  y $\\in$ $B$ and y $\\notin$ $A$ \n",
    "<br>\n",
    "$\\ast$ y $\\in$ $B$ \\ $A$    \n",
    "$ \\ast$ $B$ $\\cap$ $A^{c}$ = $B$ \\ $A$ \n",
    "\n",
    "<span style=\"text-decoration: underline;\">With these two statements, This is proof that B\\A = B $\\cap$ $A^{c}$</span>\n",
    "\n",
    "1.4.) A $\\cup$ B = A $\\cup$ (B $\\cap$ $A^{c}$)\n",
    "- Let x $\\in$ A $\\cup$ B\n",
    "$\\ast$ $A$ $\\cup$ $B$ $\\subseteq$ $U$\n",
    "- Let x $\\in$ A $\\cup$ (B $\\cap$ $A^{c}$)\n",
    "$\\ast$ x $\\in$ (A $\\cup$ B) $\\cap$ (A $\\cup$ $A^{c}$)\n",
    "- Let x $\\in$ (A $\\cup$ B) $\\cup$ $U$ \n",
    "$\\ast$ x $\\in$ $U$ = A $\\cup$ B\n",
    "\n",
    "= A $\\cup$ B = A $\\cup$ (B $\\cap$ $A^{c}$)\n",
    "\n",
    "\n",
    "1.5.) $(\\textbf{U}_{i=1}^{\\infty} A_{i}^{c})^{c}$ = $\\cap_{i=1}^{\\infty}A_{i}$\n",
    "- As per De Morgan's Law definition, we essentially insert the complement within the parentheses, leading to the following outcome. $\\cap_{i=1}^{\\infty}(A_{i}^{c})^{c}$. And by applying the Double Negation law afterward, you obtain $\\cap_{i=1}^{\\infty}(A_{i}^{c})^{c}$ = $\\cap_{i=1}^{\\infty}A_{i}$\n",
    "\n",
    "1.6.) |A $\\cup$ B| = |$A$| + |$B$| - |A $\\cap$ B|\n",
    "- Let x $\\in$ $A$ $\\cap$ $B$ $\\rightarrow$ x $\\in$ $A$ or x $\\in$ $B$\n",
    "<br>\n",
    "\n",
    "If |$A$ $\\cup$ $B$|\n",
    "- Disjointed Set\n",
    "$=$ |$A$ $\\cap$ $B$| = $\\emptyset$ \n",
    "- Not Disjoint Set\n",
    "$=$ $x$ $\\in$ |$A$| and $x$ $\\in$ |$B$|\n",
    "\n",
    "- $x$ $\\in$ |$A$ $\\cap$ $B$| = |$A$ $\\cup$ $B$| and |$A$ $\\cup$ $B$|=|$A$| + |$B$| - |A $\\cap$ B|"
   ]
  },
  {
   "cell_type": "markdown",
   "metadata": {},
   "source": [
    "# 2. Sets and Subsets\n",
    "---\n",
    "\n",
    "1. If A = {2,3,4,5}, and B = {$x \\in \\mathbb{N} | x \\ is \\ even$}. Is A $\\subset$ B? Show a proof.\n",
    "\n",
    "\n",
    "- $A$ isn't a proper subset of B because even though they share elements like 2 and 4, $A$ also has some extras like 3 and 5 (odd numbers) that $B$ doesn't. So, you can say $A$ isn't entirely contained within $B$.\n",
    "\n",
    "$=$ ${A \\not\\subset B}$ \n",
    "\n",
    "2. Let set:\n",
    "\n",
    " $\\textbf{A} = \\{x|x \\in \\mathbb{Z}, 0 \\leq x \\leq 9\\}$\n",
    "\n",
    "$\\textbf{B} = \\{ 2,4,6,8\\}$\n",
    "\n",
    "$\\textbf{C}  = \\{ 1,3,5,7,9\\}$\n",
    "\n",
    "$\\textbf{D}  = \\{ 3,4,5\\}$\n",
    "\n",
    "Find a set $\\textbf{X}$ that will fulfill the ff condition:\n",
    "1. $\\textbf{X} \\ and \\ \\textbf{B}$ are disjoint.\n",
    "\n",
    "- ${\\textbf{X} = \\{1, 3, 5, 7, 9\\}}$\n",
    "\n",
    "2. $\\textbf{X} \\subseteq \\textbf{D}$ but $\\textbf{X} \\nsubseteq \\textbf{B}$.\n",
    "\n",
    "- ${\\textbf{X} = \\{3, 5\\}}$\n",
    "\n",
    " 3. $\\textbf{X} \\subseteq \\textbf{A}$ but $\\textbf{X} \\not\\subset \\textbf{C}$.\n",
    "\n",
    "- ${\\textbf{X} = \\{2, 4, 6, 8\\}}$"
   ]
  },
  {
   "cell_type": "markdown",
   "metadata": {},
   "source": [
    "# 3. Set Operations\n",
    "---\n",
    "Given:<br>\n",
    "$\\textbf{U} = \\{1,2,3,4,5\\}$<br>\n",
    "$\\textbf{A} = \\{1,2,3,4,5\\}$<br>\n",
    "$\\textbf{B} = \\{4,5,6,7\\}$<br>\n",
    "$\\textbf{C} = \\{5,6,7,8,9\\}$<br>\n",
    "$\\textbf{D} = \\{1,3,5,7,9\\}$<br>\n",
    "$\\textbf{E} = \\{2,4,6,8\\}$<br>\n",
    "$\\textbf{F} = \\{1,5,9\\}$<br>\n",
    "- $\\textbf{C} \\oplus \\textbf{D}$\n",
    "- $\\textbf{A} \\backslash \\textbf{B}$\n",
    "- $\\textbf{B} \\backslash \\textbf{A}$\n",
    "- $\\textbf{E} \\oplus \\textbf{F}$\n",
    "\n",
    "=\n",
    "\n",
    "3.1.) $\\textbf{C} \\oplus \\textbf{D}$ \n",
    "\n",
    "$\\ast$ ($C$ - $D$) $\\cup$ ($D$ - $C$)  = {6,8} $\\cup$ {1,3} = {1,3,6,8}\n",
    "\n",
    "3.2.) $\\textbf{A} \\backslash \\textbf{B}$\n",
    "\n",
    "$\\ast$  $A$ - $B$ = {1,2,3,4,5} - {4,5,6,7} ={1,2,3}\n",
    "\n",
    "3.3.) $\\textbf{B} \\backslash \\textbf{A}$\n",
    "\n",
    "$\\ast$ $B$ - $A$ = {4,5,6,7} - {1,2,3,4,5} = {6,7}\n",
    "\n",
    "3.4.) $\\textbf{E} \\oplus \\textbf{F}$\n",
    "\n",
    "$\\ast$($E$ - $F$) $\\cup$ ($F$ - $E$)  = {2,4,6,8} $\\cup$ {1,5,9} = {1,2,4,5,6,8,9}"
   ]
  },
  {
   "cell_type": "code",
   "execution_count": 16,
   "metadata": {},
   "outputs": [
    {
     "name": "stdout",
     "output_type": "stream",
     "text": [
      "{1, 3, 6, 8}\n",
      "{1, 2, 3}\n",
      "{6, 7}\n",
      "{1, 2, 4, 5, 6, 8, 9}\n"
     ]
    }
   ],
   "source": [
    "#Python Solutions\n",
    "\n",
    "U = {1,2,3,4,5}\n",
    "A = {1,2,3,4,5}\n",
    "B = {4,5,6,7}\n",
    "C = {5,6,7,8,9}\n",
    "D = {1,3,5,7,9}\n",
    "E = {2,4,6,8}\n",
    "F ={1,5,9}\n",
    "\n",
    "X = C ^ D\n",
    "Y = A - B\n",
    "Z = B - A\n",
    "H = E ^ F \n",
    "\n",
    "print(X)\n",
    "print(Y)\n",
    "print(Z)\n",
    "print(H)"
   ]
  },
  {
   "cell_type": "markdown",
   "metadata": {},
   "source": [
    "# 4. Finite Sets and The Counting Principles\n",
    "---\n",
    "\n",
    "$\\textbf{1. In a Survey of \\underline{120} People, it was found that:}$\n",
    "- $\\textbf{65}$ read Newsweek Magazine $(N)$\n",
    "- $\\textbf{45}$ read Times Magazine $(T)$\n",
    "- $\\textbf{42}$ read Fortune Magazine $(F)$\n",
    "- $\\textbf{20}$ read Both Newsweek and Time $(NT)$\n",
    "- $\\textbf{25}$ read both Newsweek and Fortune $(NF)$\n",
    "- $\\textbf{15}$ read both Time and Fortune $(TF)$\n",
    "- $\\textbf{8}$ read all three magazines $(NTF)$\n",
    "  \n",
    "$\\textbf{With this information, do the following:}$\n",
    "\n",
    "1. Draw the venn diagram using python."
   ]
  },
  {
   "cell_type": "code",
   "execution_count": 13,
   "metadata": {},
   "outputs": [
    {
     "data": {
      "image/png": "[encoded data removed]",
      "text/plain": [
       "<Figure size 640x480 with 1 Axes>"
      ]
     },
     "metadata": {},
     "output_type": "display_data"
    }
   ],
   "source": [
    "# Import the necessary module\n",
    "import matplotlib.pyplot as plt\n",
    "from matplotlib_venn import venn3\n",
    "\n",
    "# Create a Venn diagram\n",
    "v = venn3(subsets=(28, 18, 12, 10, 17, 7, 8), set_labels=('$N$', '$T$', '$F$'))\n",
    "\n",
    "# Display the diagram (if you're using Jupyter Notebook or a similar environment)\n",
    "plt.show()"
   ]
  },
  {
   "cell_type": "markdown",
   "metadata": {},
   "source": [
    "2. Find the number of people who read at $\\textbf{\"least one\"}$ of the three magazines.\n",
    "\n",
    "$\\bullet$ $|N \\cup T \\cup F| = |N| + |T| + |F| − (N\\cap T + N\\cap F + T\\cap F) + |N\\cap F\\cap T| = 65 + 42 + 20 - (20 + 35 + 15) + 8 = {100}$\n",
    "   \n",
    "\n",
    "3.  Find the number of people who read exactly one magazine.\n",
    "\n",
    "$\\bullet$ |$N$| = |$N$| - ($N$ $\\cap$ $T$) - |$N$ $\\cap$ $F$| + |$N$ $\\cap$ $F$ $\\cap$ $T$| = 65 - 20 -25 + 8 = 28\n",
    "\n",
    "$\\bullet$  |$T$| = |$T$| - ($N$ $\\cap$ $T$) - |$T$ $\\cap$ $F$| + |$N$ $\\cap$ $F$ $\\cap$ $T$| = 45 - 20 -15 + 8 = 18\n",
    "\n",
    "$\\bullet$  |$F$| = |$F$| - ($T$ $\\cap$ $F$) - |$N$ $\\cap$ $F$| + |$N$ $\\cap$ $F$ $\\cap$ $T$| = 42 - 25 -15 + 8 = 10\n",
    "\n",
    "$\\ast$ The number of people who read exactly one magazine = |$N$| + |$T$| + |$F$| = 28 + 18 + 10 = 56"
   ]
  },
  {
   "cell_type": "markdown",
   "metadata": {},
   "source": [
    " **In a survey of 25 new cars being sold at a local auto dealer was conducted to see which of the three popular options: air-conditioning, denoted as A; radio, denoted as R; and power windows, denoted as W were installed. The survey found that:**\n",
    "\n",
    "- 15 had A. HINT: The condition said $\\textbf{\"had an A\"}$  <font color='red'>$\\textbf{ AND NOT}$ <font color='black'>$\\textbf{\"had an A only\"}$\n",
    "- 12 had R. HINT: The condition said $\\textbf{\"had a R\"}$  <font color='red'>$\\textbf{ AND NOT}$ <font color='black'>$\\textbf{\"had a R only\"}$\n",
    "- 11 had W. HINT: The condition said $\\textbf{\"had a W\"}$  <font color='red'>$\\textbf{ AND NOT}$ <font color='black'>$\\textbf{\"had a W only\"}$\n",
    "- 5 had A and W.\n",
    "- 9 had A and R.\n",
    "- 4 had R and W.\n",
    "- Only 3 hace the three options.\n",
    "\n",
    "\n",
    "With these information do the following:<br>\n",
    "-  Draw the venn diagram using python.<br>\n"
   ]
  },
  {
   "cell_type": "code",
   "execution_count": 14,
   "metadata": {},
   "outputs": [
    {
     "data": {
      "text/plain": [
       "Text(0.6, 0.4, \"None of the Opt's: 2\")"
      ]
     },
     "execution_count": 14,
     "metadata": {},
     "output_type": "execute_result"
    },
    {
     "data": {
      "image/png": "[encoded data removed]",
      "text/plain": [
       "<Figure size 640x480 with 1 Axes>"
      ]
     },
     "metadata": {},
     "output_type": "display_data"
    }
   ],
   "source": [
    "v= vplt.venn3(subsets = (4, 2, 6, 5, 2, 1, 3), set_labels =('$A$', '$R$', '$W$'))\n",
    "plt.annotate(\"None of the Opt's: 2\", xy=(0.6, 0.4), fontsize=6, ha='center', va='center', color='black', weight='bold')"
   ]
  },
  {
   "cell_type": "markdown",
   "metadata": {},
   "source": [
    "2. Find the number of cars with W only.<br>\n",
    "$\\triangleright \\quad |\\mathcal{U}| = |\\mathcal{U} -  |W| = |W| - (|A \\cap W| + |R \\cap W| - |A\\cap R \\cap W|) = 11 - (5 + 4 - 3) = {5}$\n",
    "\n",
    "3. Find the number of cars with A only.<br>\n",
    "$\\triangleright \\quad |\\mathcal{U}| = |\\mathcal{U} -  |A| = |A| - (|A \\cap W| + |A \\cap R| - |A\\cap R \\cap W|) = 15 - (5 + 9 - 3) = {4}$\n",
    "\n",
    "4. Find the number of cars with R only.<br>\n",
    "$\\triangleright \\quad |\\mathcal{U}| = |\\mathcal{U} -   |R| = |R| - (|A \\cap R| + |R \\cap W| - |A\\cap R \\cap W|) = 12 - (9 + 4 - 3) = {2}$\n",
    "\n",
    "5. Find the number of cars with both R and W but not A.<br>\n",
    "$\\triangleright \\quad |\\mathcal{U}| = |\\mathcal{U} -  |R \\cap W| = |R \\cap W| - |A\\cap R \\cap W| = 4 - 3 = {1}$\n",
    "\n",
    "6. Find the number of cars with both A and R but not W.<br>\n",
    "$\\triangleright \\quad |\\mathcal{U}| = |\\mathcal{U} -  |A \\cap R| = |A \\cap R| - |A\\cap R \\cap W| = 9 - 3 = {6}$\n",
    "\n",
    "7. Find the number of cars with only one of the options.<br>\n",
    "$\\triangleright \\quad |\\mathcal{U}| = |\\mathcal{U} -   Only one = |A| + |W| + |R| = 5 + 4 + 2 = {11}$ \n",
    "\n",
    "8. Find the number of cars with at least one option.<br>\n",
    "$\\triangleright \\quad |\\mathcal{U}| = |\\mathcal{U} -  |A \\cup R \\cup W| = |A| + |R| + |W| - |A \\cap R| - |A \\cap W| - |R \\cap W| + |A\\cap R \\cap W| = 15 + 12 + 11 - 9 - 5 - 4 + 3 = {23}$\n",
    "\n",
    "9. Find the number of cars with none of the Options.<br>\n",
    "$\\triangleright \\quad |\\mathcal{U}| = |\\mathcal{U} - |A \\cup R \\cup W| = 25 - 23 = {2}$"
   ]
  }
 ],
 "metadata": {
  "kernelspec": {
   "display_name": "Python 3",
   "language": "python",
   "name": "python3"
  },
  "language_info": {
   "codemirror_mode": {
    "name": "ipython",
    "version": 3
   },
   "file_extension": ".py",
   "mimetype": "text/x-python",
   "name": "python",
   "nbconvert_exporter": "python",
   "pygments_lexer": "ipython3",
   "version": "3.11.5"
  },
  "orig_nbformat": 4
 },
 "nbformat": 4,
 "nbformat_minor": 2
}
